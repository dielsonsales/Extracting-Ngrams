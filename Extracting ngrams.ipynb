{
 "cells": [
  {
   "cell_type": "markdown",
   "metadata": {},
   "source": [
    "This notebook aims to extract the common ngrams in a Portuguese text and save it in a dictionary file as a way to look for combinations of words that have a different meaning."
   ]
  },
  {
   "cell_type": "code",
   "execution_count": null,
   "metadata": {},
   "outputs": [],
   "source": [
    "import collections\n",
    "import nltk\n",
    "import re\n",
    "from nltk.util import ngrams\n",
    "\n",
    "with open(\"data/filmow_comments.txt\", \"r\", encoding='utf-8') as file:\n",
    "    text = file.read()\n",
    "\n",
    "SPECIAL_CHARACTERS_REGEX = re.compile(r\"[^0-9A-Za-zÁÉÍÓÚáéíóúÀàÂÊÔâêôÃÕãõÜüç\\-\\s\\n\\r]\")\n",
    "\n",
    "def filter_special_characters(text):\n",
    "    filtered_text = text\n",
    "    special_characters = re.findall(SPECIAL_CHARACTERS_REGEX, text)\n",
    "    for special_character in special_characters:\n",
    "        filtered_text = filtered_text.replace(special_character, '')\n",
    "    return filtered_text\n",
    "\n",
    "text = filter_special_characters(text)\n",
    "\n",
    "# Just checking the result\n",
    "print(text[0:1000])"
   ]
  },
  {
   "cell_type": "code",
   "execution_count": null,
   "metadata": {},
   "outputs": [],
   "source": [
    "words = text.split()\n",
    "esBigrams = ngrams(words, 5)\n",
    "\n",
    "esBigramFreq = collections.Counter(esBigrams)\n",
    "\n",
    "# Print the 10 most common 5 grams\n",
    "print(esBigramFreq.most_common(50))"
   ]
  },
  {
   "cell_type": "code",
   "execution_count": null,
   "metadata": {},
   "outputs": [],
   "source": []
  }
 ],
 "metadata": {
  "kernelspec": {
   "display_name": "Python 3",
   "language": "python",
   "name": "python3"
  },
  "language_info": {
   "codemirror_mode": {
    "name": "ipython",
    "version": 3
   },
   "file_extension": ".py",
   "mimetype": "text/x-python",
   "name": "python",
   "nbconvert_exporter": "python",
   "pygments_lexer": "ipython3",
   "version": "3.7.3"
  }
 },
 "nbformat": 4,
 "nbformat_minor": 2
}
